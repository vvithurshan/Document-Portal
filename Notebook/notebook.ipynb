{
 "cells": [
  {
   "cell_type": "code",
   "execution_count": 1,
   "id": "d5347923",
   "metadata": {},
   "outputs": [],
   "source": [
    "import os"
   ]
  },
  {
   "cell_type": "code",
   "execution_count": 4,
   "id": "6e2dd021",
   "metadata": {},
   "outputs": [],
   "source": [
    "from langchain_groq import ChatGroq\n",
    "from dotenv import load_dotenv"
   ]
  },
  {
   "cell_type": "code",
   "execution_count": 21,
   "id": "db67ce88",
   "metadata": {},
   "outputs": [
    {
     "data": {
      "text/plain": [
       "True"
      ]
     },
     "execution_count": 21,
     "metadata": {},
     "output_type": "execute_result"
    }
   ],
   "source": [
    "load_dotenv()"
   ]
  },
  {
   "cell_type": "code",
   "execution_count": 16,
   "id": "a6945b5d",
   "metadata": {},
   "outputs": [],
   "source": [
    "model = ChatGroq(model='qwen/qwen3-32b' )"
   ]
  },
  {
   "cell_type": "code",
   "execution_count": 17,
   "id": "37403e91",
   "metadata": {},
   "outputs": [
    {
     "data": {
      "text/plain": [
       "'<think>\\nOkay, the user wrote \"the sky is\". They might be trying to start a sentence or a question. Let me think about possible continuations. Maybe they want to describe the sky in a certain way, like \"the sky is blue\" or \"the sky is cloudy\". Alternatively, they could be asking for information, such as \"the sky is what color?\" or \"the sky is made of what?\".\\n\\nSince the input is very short, I should consider if they need help completing a thought or if they have a specific question in mind. They might be referring to a common phrase or a riddle. For example, \"The sky is the limit\" or \"The sky is falling\". \\n\\nI should also check if there\\'s any context from previous messages, but since this is the first message, there\\'s nothing to reference. The best approach is to ask for clarification. I can offer examples to prompt them to elaborate on what they\\'re thinking. That way, I can provide a more accurate and helpful response.\\n\\nSo, I\\'ll respond by asking what they were going to say next and give a couple of examples to guide them. That should help them clarify their question or statement.\\n</think>\\n\\nIt sounds like you\\'re starting a thought or description! Could you clarify or complete your statement? For example:  \\n- \"The sky is so beautiful today!\"  \\n- \"The sky is so clear — perfect for stargazing.\"  \\nLet me know how I can help! 🌤️'"
      ]
     },
     "execution_count": 17,
     "metadata": {},
     "output_type": "execute_result"
    }
   ],
   "source": [
    "model.invoke('the sky is').content"
   ]
  },
  {
   "cell_type": "code",
   "execution_count": 19,
   "id": "c16dd993",
   "metadata": {},
   "outputs": [],
   "source": [
    "from langchain_google_genai import GoogleGenerativeAIEmbeddings"
   ]
  },
  {
   "cell_type": "code",
   "execution_count": 25,
   "id": "051f91ba",
   "metadata": {},
   "outputs": [],
   "source": [
    "embedding_model = GoogleGenerativeAIEmbeddings(model=\"models/embedding-001\")"
   ]
  },
  {
   "cell_type": "code",
   "execution_count": 27,
   "id": "b1617c71",
   "metadata": {},
   "outputs": [],
   "source": [
    "embedding = embedding_model.embed_query('the sky is')"
   ]
  },
  {
   "cell_type": "code",
   "execution_count": 29,
   "id": "63cf9b4e",
   "metadata": {},
   "outputs": [
    {
     "data": {
      "text/plain": [
       "768"
      ]
     },
     "execution_count": 29,
     "metadata": {},
     "output_type": "execute_result"
    }
   ],
   "source": [
    "len(embedding)"
   ]
  },
  {
   "cell_type": "code",
   "execution_count": null,
   "id": "7b26fa02",
   "metadata": {},
   "outputs": [],
   "source": []
  }
 ],
 "metadata": {
  "kernelspec": {
   "display_name": "Python 3",
   "language": "python",
   "name": "python3"
  },
  "language_info": {
   "codemirror_mode": {
    "name": "ipython",
    "version": 3
   },
   "file_extension": ".py",
   "mimetype": "text/x-python",
   "name": "python",
   "nbconvert_exporter": "python",
   "pygments_lexer": "ipython3",
   "version": "3.10.18"
  }
 },
 "nbformat": 4,
 "nbformat_minor": 5
}
